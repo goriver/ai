{
 "cells": [
  {
   "cell_type": "code",
   "execution_count": 1,
   "metadata": {},
   "outputs": [],
   "source": [
    "import numpy as np\n",
    "import pandas as pd\n",
    "from sklearn.ensemble import RandomForestClassifier\n",
    "from sklearn.ensemble import GradientBoostingClassifier\n",
    "from sklearn.neural_network import MLPClassifier\n",
    "from sklearn.metrics import accuracy_score\n",
    "from sklearn.model_selection import train_test_split"
   ]
  },
  {
   "cell_type": "code",
   "execution_count": 22,
   "metadata": {},
   "outputs": [],
   "source": [
    "train_df = pd.read_csv(\"../dataset/mnist_train.csv\", header=None)\n",
    "test_df = pd.read_csv(\"../dataset/mnist_test.csv\", header=None)\n",
    "\n",
    "train_data = train_df.values\n",
    "test_data = test_df.values\n",
    "# 8:2 -> 학습데이터:검증데이터 \n",
    "X_train, X_test, Y_train, Y_test = train_test_split(train_data[0:, 1:], train_data[0:, 0], test_size=0.2, random_state=0)"
   ]
  },
  {
   "cell_type": "markdown",
   "metadata": {},
   "source": [
    "## RandomForestClassifier"
   ]
  },
  {
   "cell_type": "code",
   "execution_count": 3,
   "metadata": {},
   "outputs": [],
   "source": [
    "model1 = RandomForestClassifier(n_estimators=500)\n",
    "rdc = model1.fit(X_train, Y_train)\n",
    "output1 = rdc.predict(X_test)"
   ]
  },
  {
   "cell_type": "code",
   "execution_count": 4,
   "metadata": {},
   "outputs": [
    {
     "name": "stdout",
     "output_type": "stream",
     "text": [
      "RandomForest with n_estimators=500\n",
      "0.9690833333333333\n"
     ]
    }
   ],
   "source": [
    "print(\"RandomForest with n_estimators=500\")\n",
    "print(accuracy_score(Y_test, output1))"
   ]
  },
  {
   "cell_type": "code",
   "execution_count": null,
   "metadata": {},
   "outputs": [],
   "source": [
    "# n_estimators=2000\n",
    "model1 = RandomForestClassifier(n_estimators=2000)\n",
    "rdc = model1.fit(X_train, Y_train)\n",
    "output1 = rdc.predict(X_test)\n",
    "print(\"RandomForest with n_estimators=2000\")\n",
    "print(accuracy_score(Y_test, output1))"
   ]
  },
  {
   "cell_type": "code",
   "execution_count": 28,
   "metadata": {},
   "outputs": [
    {
     "name": "stdout",
     "output_type": "stream",
     "text": [
      "RandomForest with n_estimators=2000\n",
      "0.9717\n"
     ]
    }
   ],
   "source": [
    "# 1) test_df의 데이터로 predict \n",
    "train_df_x = train_data[0:, 1:]\n",
    "train_df_y = train_data[0:, 0]\n",
    "test_df_x = test_data[0:, 1:]\n",
    "test_df_y = test_data[0:, 0]\n",
    "\n",
    "model1 = RandomForestClassifier(n_estimators=2000)\n",
    "rdc = model1.fit(train_df_x, train_df_y)\n",
    "output1 = rdc.predict(test_df_x)\n",
    "print(\"RandomForest with n_estimators=2000\")\n",
    "print(accuracy_score(test_df_y, output1))"
   ]
  },
  {
   "cell_type": "markdown",
   "metadata": {},
   "source": [
    "## GradientBoostingClassifier"
   ]
  },
  {
   "cell_type": "code",
   "execution_count": 8,
   "metadata": {},
   "outputs": [
    {
     "name": "stdout",
     "output_type": "stream",
     "text": [
      "GradientBoosting\n",
      "0.7559166666666667\n"
     ]
    }
   ],
   "source": [
    "model2 = GradientBoostingClassifier(n_estimators=10, \n",
    "                                    learning_rate=0.3, \n",
    "                                    max_depth=1, random_state=0)\n",
    "gbc = model2.fit(X_train, Y_train)\n",
    "output2 = gbc.predict(X_test)\n",
    "print(\"GradientBoosting\")\n",
    "print(accuracy_score(Y_test, output2))"
   ]
  },
  {
   "cell_type": "markdown",
   "metadata": {},
   "source": [
    "## MLPClassifier"
   ]
  },
  {
   "cell_type": "code",
   "execution_count": 29,
   "metadata": {},
   "outputs": [
    {
     "name": "stdout",
     "output_type": "stream",
     "text": [
      "SGD\n",
      "0.93\n"
     ]
    },
    {
     "name": "stderr",
     "output_type": "stream",
     "text": [
      "C:\\ProgramData\\Anaconda3\\lib\\site-packages\\sklearn\\neural_network\\_multilayer_perceptron.py:571: ConvergenceWarning: Stochastic Optimizer: Maximum iterations (200) reached and the optimization hasn't converged yet.\n",
      "  % self.max_iter, ConvergenceWarning)\n"
     ]
    }
   ],
   "source": [
    "# sgd\n",
    "model3 = MLPClassifier(solver='sgd', hidden_layer_sizes=(100,)\n",
    "                       , random_state=1)\n",
    "model3.fit(train_df_x, train_df_y)\n",
    "output3 = model3.predict(test_df_x)\n",
    "print('SGD')\n",
    "print(accuracy_score(test_df_y, output3))\n",
    "\n",
    "# adam"
   ]
  },
  {
   "cell_type": "code",
   "execution_count": 31,
   "metadata": {},
   "outputs": [
    {
     "name": "stdout",
     "output_type": "stream",
     "text": [
      "ADAM\n",
      "0.9678\n"
     ]
    }
   ],
   "source": [
    "model3 = MLPClassifier(solver='adam', hidden_layer_sizes=(100,)\n",
    "                       , random_state=1)\n",
    "model3.fit(train_df_x, train_df_y)\n",
    "output3 = model3.predict(test_df_x)\n",
    "print('ADAM')\n",
    "print(accuracy_score(test_df_y, output3))"
   ]
  },
  {
   "cell_type": "code",
   "execution_count": 36,
   "metadata": {},
   "outputs": [
    {
     "name": "stdout",
     "output_type": "stream",
     "text": [
      "Saved forest_output file\n"
     ]
    }
   ],
   "source": [
    "import csv as csv\n",
    "final_output = output1\n",
    "precdions_file = open(\"forest_output.csv\",\"w\")\n",
    "open_file_object = csv.writer(precdions_file)\n",
    "ids = range(output1.__len__())\n",
    "ids = [x+1 for x in ids]\n",
    "open_file_object.writerow([\"ImageId\", \"Label\"])\n",
    "open_file_object.writerow(zip(ids, final_output))\n",
    "precdions_file.close()\n",
    "print(\"Saved forest_output file\")"
   ]
  },
  {
   "cell_type": "code",
   "execution_count": 37,
   "metadata": {},
   "outputs": [],
   "source": [
    "# weights, bias\n",
    "import pickle\n",
    "filename = 'randomforest_model.plk'\n",
    "pickle.dump(model1, open(filename, 'wb'))\n",
    "# model1 = pickle.load(open(filename, 'rb'))"
   ]
  },
  {
   "cell_type": "code",
   "execution_count": null,
   "metadata": {},
   "outputs": [],
   "source": []
  }
 ],
 "metadata": {
  "kernelspec": {
   "display_name": "Python 3",
   "language": "python",
   "name": "python3"
  },
  "language_info": {
   "codemirror_mode": {
    "name": "ipython",
    "version": 3
   },
   "file_extension": ".py",
   "mimetype": "text/x-python",
   "name": "python",
   "nbconvert_exporter": "python",
   "pygments_lexer": "ipython3",
   "version": "3.7.6"
  }
 },
 "nbformat": 4,
 "nbformat_minor": 4
}
