{
 "cells": [
  {
   "cell_type": "code",
   "execution_count": 1,
   "metadata": {},
   "outputs": [],
   "source": [
    "from sklearn.model_selection import train_test_split\n",
    "from sklearn.ensemble import GradientBoostingClassifier\n",
    "from sklearn import datasets\n",
    "import pandas as pd"
   ]
  },
  {
   "cell_type": "code",
   "execution_count": 2,
   "metadata": {},
   "outputs": [],
   "source": [
    "cancer = datasets.load_breast_cancer()"
   ]
  },
  {
   "cell_type": "code",
   "execution_count": 3,
   "metadata": {},
   "outputs": [],
   "source": [
    "df = pd.DataFrame(cancer.data, columns=cancer.feature_names)"
   ]
  },
  {
   "cell_type": "code",
   "execution_count": 4,
   "metadata": {},
   "outputs": [],
   "source": [
    "# 학습데이터와 검증데이터 분리\n",
    "X_train, X_test, Y_train, Y_test = train_test_split(cancer.data, cancer.target, stratify=cancer.target, random_state=0)"
   ]
  },
  {
   "cell_type": "code",
   "execution_count": 6,
   "metadata": {},
   "outputs": [
    {
     "data": {
      "text/plain": [
       "GradientBoostingClassifier(ccp_alpha=0.0, criterion='friedman_mse', init=None,\n",
       "                           learning_rate=0.1, loss='deviance', max_depth=3,\n",
       "                           max_features=None, max_leaf_nodes=None,\n",
       "                           min_impurity_decrease=0.0, min_impurity_split=None,\n",
       "                           min_samples_leaf=1, min_samples_split=2,\n",
       "                           min_weight_fraction_leaf=0.0, n_estimators=100,\n",
       "                           n_iter_no_change=None, presort='deprecated',\n",
       "                           random_state=0, subsample=1.0, tol=0.0001,\n",
       "                           validation_fraction=0.1, verbose=0,\n",
       "                           warm_start=False)"
      ]
     },
     "execution_count": 6,
     "metadata": {},
     "output_type": "execute_result"
    }
   ],
   "source": [
    "# 기본갑시 max_depth=3, learning_rate=0.1\n",
    "model = GradientBoostingClassifier(random_state=0)\n",
    "# 학습 \n",
    "model.fit(X_train, Y_train)"
   ]
  },
  {
   "cell_type": "code",
   "execution_count": 7,
   "metadata": {},
   "outputs": [
    {
     "name": "stdout",
     "output_type": "stream",
     "text": [
      "score_train= 1.0\n"
     ]
    }
   ],
   "source": [
    "score_train = model.score(X_train, Y_train)\n",
    "print('score_train=', score_train)"
   ]
  },
  {
   "cell_type": "code",
   "execution_count": 8,
   "metadata": {},
   "outputs": [
    {
     "name": "stdout",
     "output_type": "stream",
     "text": [
      "score_test= 0.958041958041958\n"
     ]
    }
   ],
   "source": [
    "score_test = model.score(X_test, Y_test)\n",
    "print('score_test=', score_test)"
   ]
  },
  {
   "cell_type": "code",
   "execution_count": 9,
   "metadata": {},
   "outputs": [
    {
     "name": "stdout",
     "output_type": "stream",
     "text": [
      "max_depth=1, score_train= 0.9953051643192489\n",
      "max_depth=1, score_test= 0.965034965034965\n"
     ]
    }
   ],
   "source": [
    "model = GradientBoostingClassifier(random_state=0, max_depth=1)\n",
    "model.fit(X_train, Y_train)\n",
    "score_train = model.score(X_train, Y_train)\n",
    "print('max_depth=1, score_train=', score_train)\n",
    "score_test = model.score(X_test, Y_test)\n",
    "print('max_depth=1, score_test=', score_test)"
   ]
  },
  {
   "cell_type": "code",
   "execution_count": 11,
   "metadata": {},
   "outputs": [
    {
     "name": "stdout",
     "output_type": "stream",
     "text": [
      "max_depth=5, learning_rate=0.05, score_train= 0.9953051643192489\n",
      "max_depth=5, learning_rate=0.05, score_test= 0.9440559440559441\n"
     ]
    }
   ],
   "source": [
    "model = GradientBoostingClassifier(random_state=0, max_depth=3, learning_rate=0.01)\n",
    "model.fit(X_train, Y_train)\n",
    "score_train = model.score(X_train, Y_train)\n",
    "print('max_depth=5, learning_rate=0.05, score_train=', score_train)\n",
    "score_test = model.score(X_test, Y_test)\n",
    "print('max_depth=5, learning_rate=0.05, score_test=', score_test)"
   ]
  },
  {
   "cell_type": "code",
   "execution_count": null,
   "metadata": {},
   "outputs": [],
   "source": []
  }
 ],
 "metadata": {
  "kernelspec": {
   "display_name": "Python 3",
   "language": "python",
   "name": "python3"
  },
  "language_info": {
   "codemirror_mode": {
    "name": "ipython",
    "version": 3
   },
   "file_extension": ".py",
   "mimetype": "text/x-python",
   "name": "python",
   "nbconvert_exporter": "python",
   "pygments_lexer": "ipython3",
   "version": "3.7.6"
  }
 },
 "nbformat": 4,
 "nbformat_minor": 4
}
