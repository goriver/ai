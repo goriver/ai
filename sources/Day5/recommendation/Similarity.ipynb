{
 "cells": [
  {
   "cell_type": "code",
   "execution_count": null,
   "metadata": {},
   "outputs": [],
   "source": [
    "%matplotlib inline \n",
    "import matplotlib.pyplot as plt\n",
    "from matplotlib import font_manager, rc\n",
    "from math import sqrt\n",
    "\n",
    "font_name = font_manager.FontProperties(fname='/System/Library/Fonts/Supplemental/AppleGothic.ttf').get_name()\n",
    "rc('font', family=font_name)"
   ]
  },
  {
   "cell_type": "code",
   "execution_count": null,
   "metadata": {},
   "outputs": [],
   "source": [
    "ratings = {\n",
    "    'user1': {'captain marvel':5, 'last mission':4, 'money':2},\n",
    "    'user2': {'captain marvel':4, 'last mission':2, 'money':1},\n",
    "    'me': {'last mission':4, 'money':3},\n",
    "    'user3': {'captain marvel':3.5, 'last mission':4, 'money':4},\n",
    "}"
   ]
  },
  {
   "cell_type": "code",
   "execution_count": null,
   "metadata": {},
   "outputs": [],
   "source": [
    "ratings['me']"
   ]
  },
  {
   "cell_type": "code",
   "execution_count": null,
   "metadata": {},
   "outputs": [],
   "source": [
    "ratings['me']['money']"
   ]
  },
  {
   "cell_type": "code",
   "execution_count": null,
   "metadata": {},
   "outputs": [],
   "source": [
    "def similarity(i, j):\n",
    "    return sqrt(pow(i, 2) + pow(j, 2))"
   ]
  },
  {
   "cell_type": "code",
   "execution_count": null,
   "metadata": {},
   "outputs": [],
   "source": [
    "var1 = ratings['me']['last mission'] - ratings['user3']['last mission']\n",
    "var2 = ratings['me']['money'] - ratings['user3']['money']\n",
    "similarity(var1, var2)"
   ]
  },
  {
   "cell_type": "code",
   "execution_count": null,
   "metadata": {},
   "outputs": [],
   "source": [
    "for i in ratings:\n",
    "    if i != 'me': #자기자신제외\n",
    "        num1 = ratings['me']['last mission'] - ratings[i]['last mission']\n",
    "        num2 = ratings['me']['money'] - ratings[i]['money']\n",
    "        print(i, \" : \", similarity(num1, num2)) # 거리가 멀수록 큰 값"
   ]
  },
  {
   "cell_type": "code",
   "execution_count": null,
   "metadata": {},
   "outputs": [],
   "source": [
    "# 정규화 (0~1) 0:거리가 먼 데이터, 1:거리가 가까운 데이터\n",
    "for i in ratings:\n",
    "    if i != 'me': #자기자신제외\n",
    "        num1 = ratings['me']['last mission'] - ratings[i]['last mission']\n",
    "        num2 = ratings['me']['money'] - ratings[i]['money']\n",
    "        print(i, \" : \", 1 / (1+similarity(num1, num2))) # 거리가 멀수록 큰 값"
   ]
  },
  {
   "cell_type": "code",
   "execution_count": null,
   "metadata": {},
   "outputs": [],
   "source": [
    "# 다차원의 유사도 구하기 \n",
    "def similarity_distance(data, name1, name2):\n",
    "    sum = 0\n",
    "    for i in data[name1]:\n",
    "        if i in data[name2]: #같은 영화를 봤다면\n",
    "            # d각 축을 기준으로 차이를 구하고 제곱을 하고, 총합의 제곱근이 거리 점수\n",
    "            sum += pow(data[name1][i] - data[name2][i], 2)\n",
    "    \n",
    "    # 유사할 수록 더 높은 값을 가지는 계산식 사용, 결과 값이 0과 1사이의 값을 반환\n",
    "    # 반환 값이 1에 가까울 수록 유사도가 높다\n",
    "    return 1 / (1 + sqrt(sum))"
   ]
  },
  {
   "cell_type": "code",
   "execution_count": null,
   "metadata": {},
   "outputs": [],
   "source": [
    "print(similarity_distance(ratings, 'user1', 'user2'))\n",
    "print(similarity_distance(ratings, 'user1', 'user3'))"
   ]
  },
  {
   "cell_type": "code",
   "execution_count": null,
   "metadata": {},
   "outputs": [],
   "source": [
    "# 전체 데이터에서 유사도가 가장 가까운 사람 구하기\n",
    "def nearest_user(data, name, index=3):\n",
    "    nearest_user_list = []\n",
    "    for u in data:\n",
    "        if name != u: #자기 자신은 제외\n",
    "            nearest_user_list.append((similarity_distance(data, name, u), u))\n",
    "    \n",
    "    nearest_user_list.sort() #오름차순 정렬\n",
    "    nearest_user_list.reverse() #내림차순 정렬\n",
    "    \n",
    "    return nearest_user_list[:index]"
   ]
  },
  {
   "cell_type": "code",
   "execution_count": null,
   "metadata": {},
   "outputs": [],
   "source": [
    "nearest_user(ratings, 'user2')"
   ]
  },
  {
   "cell_type": "code",
   "execution_count": null,
   "metadata": {},
   "outputs": [],
   "source": [
    "# 평점과 이름 분리\n",
    "def nearest_user(data, name, index=3):\n",
    "    score = []\n",
    "    names = []\n",
    "    for u in data:\n",
    "        if name != u: #자기 자신은 제외\n",
    "            score.append(similarity_distance(data, name, u))\n",
    "            names.append(u)\n",
    "    \n",
    "    score.sort() #오름차순 정렬\n",
    "    score.reverse() #내림차순 정렬\n",
    "    names.sort() #오름차순 정렬\n",
    "    names.reverse() #내림차순 정렬\n",
    "    \n",
    "    return score, names"
   ]
  },
  {
   "cell_type": "code",
   "execution_count": null,
   "metadata": {},
   "outputs": [],
   "source": [
    "score, names = nearest_user(ratings, 'user2')\n",
    "print(score)\n",
    "print(names)"
   ]
  },
  {
   "cell_type": "code",
   "execution_count": null,
   "metadata": {},
   "outputs": [],
   "source": [
    "#시각화 \n",
    "def draw_chart(data, labels): \n",
    "    positions = range(len(data))\n",
    "    plt.barh(positions, data, height=0.5, color='b')\n",
    "    plt.yticks(positions, labels)\n",
    "    plt.xlabel('similarity')\n",
    "    plt.ylabel('name')\n",
    "    plt.show()"
   ]
  },
  {
   "cell_type": "code",
   "execution_count": null,
   "metadata": {},
   "outputs": [],
   "source": [
    "draw_chart(score, names)"
   ]
  },
  {
   "cell_type": "code",
   "execution_count": null,
   "metadata": {},
   "outputs": [],
   "source": []
  }
 ],
 "metadata": {
  "kernelspec": {
   "display_name": "Python 3",
   "language": "python",
   "name": "python3"
  },
  "language_info": {
   "codemirror_mode": {
    "name": "ipython",
    "version": 3
   },
   "file_extension": ".py",
   "mimetype": "text/x-python",
   "name": "python",
   "nbconvert_exporter": "python",
   "pygments_lexer": "ipython3",
   "version": "3.8.3"
  }
 },
 "nbformat": 4,
 "nbformat_minor": 4
}
