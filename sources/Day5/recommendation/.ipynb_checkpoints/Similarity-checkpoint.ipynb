{
 "cells": [
  {
   "cell_type": "code",
   "execution_count": 2,
   "metadata": {},
   "outputs": [],
   "source": [
    "%matplotlib inline \n",
    "import matplotlib.pyplot as plt\n",
    "from matplotlib import font_manager, rc\n",
    "from math import sqrt\n",
    "\n",
    "font_name = font_manager.FontProperties(fname='/System/Library/Fonts/Supplemental/AppleGothic.ttf').get_name()\n",
    "rc('font', family=font_name)"
   ]
  },
  {
   "cell_type": "code",
   "execution_count": 10,
   "metadata": {},
   "outputs": [],
   "source": [
    "ratings = {\n",
    "    'user1': {'captain marvel':5, 'last mission':4, 'money':2},\n",
    "    'user2': {'captain marvel':4, 'last mission':2, 'money':1},\n",
    "    'me': {'last mission':4, 'money':3},\n",
    "    'user3': {'captain marvel':3.5, 'last mission':4, 'money':4},\n",
    "}"
   ]
  },
  {
   "cell_type": "code",
   "execution_count": 11,
   "metadata": {},
   "outputs": [
    {
     "data": {
      "text/plain": [
       "{'last mission': 4, 'money': 3}"
      ]
     },
     "execution_count": 11,
     "metadata": {},
     "output_type": "execute_result"
    }
   ],
   "source": [
    "ratings['me']"
   ]
  },
  {
   "cell_type": "code",
   "execution_count": 12,
   "metadata": {},
   "outputs": [
    {
     "data": {
      "text/plain": [
       "3"
      ]
     },
     "execution_count": 12,
     "metadata": {},
     "output_type": "execute_result"
    }
   ],
   "source": [
    "ratings['me']['money']"
   ]
  },
  {
   "cell_type": "code",
   "execution_count": 13,
   "metadata": {},
   "outputs": [],
   "source": [
    "def similarity(i, j):\n",
    "    return sqrt(pow(i, 2) + pow(j, 2))"
   ]
  },
  {
   "cell_type": "code",
   "execution_count": 14,
   "metadata": {},
   "outputs": [
    {
     "data": {
      "text/plain": [
       "1.0"
      ]
     },
     "execution_count": 14,
     "metadata": {},
     "output_type": "execute_result"
    }
   ],
   "source": [
    "var1 = ratings['me']['last mission'] - ratings['user3']['last mission']\n",
    "var2 = ratings['me']['money'] - ratings['user3']['money']\n",
    "similarity(var1, var2)"
   ]
  },
  {
   "cell_type": "code",
   "execution_count": 15,
   "metadata": {},
   "outputs": [
    {
     "name": "stdout",
     "output_type": "stream",
     "text": [
      "user1  :  1.0\n",
      "user2  :  2.8284271247461903\n",
      "user3  :  1.0\n"
     ]
    }
   ],
   "source": [
    "for i in ratings:\n",
    "    if i != 'me': #자기자신제외\n",
    "        num1 = ratings['me']['last mission'] - ratings[i]['last mission']\n",
    "        num2 = ratings['me']['money'] - ratings[i]['money']\n",
    "        print(i, \" : \", similarity(num1, num2)) # 거리가 멀수록 큰 값"
   ]
  },
  {
   "cell_type": "code",
   "execution_count": 16,
   "metadata": {},
   "outputs": [
    {
     "name": "stdout",
     "output_type": "stream",
     "text": [
      "user1  :  0.5\n",
      "user2  :  0.2612038749637414\n",
      "user3  :  0.5\n"
     ]
    }
   ],
   "source": [
    "# 정규화 (0~1) 0:거리가 먼 데이터, 1:거리가 가까운 데이터\n",
    "for i in ratings:\n",
    "    if i != 'me': #자기자신제외\n",
    "        num1 = ratings['me']['last mission'] - ratings[i]['last mission']\n",
    "        num2 = ratings['me']['money'] - ratings[i]['money']\n",
    "        print(i, \" : \", 1 / (1+similarity(num1, num2))) # 거리가 멀수록 큰 값"
   ]
  },
  {
   "cell_type": "code",
   "execution_count": 24,
   "metadata": {},
   "outputs": [],
   "source": [
    "# 다차원의 유사도 구하기 \n",
    "def similarity_distance(data, name1, name2):\n",
    "    sum = 0\n",
    "    for i in data[name1]:\n",
    "        if i in data[name2]: #같은 영화를 봤다면\n",
    "            # d각 축을 기준으로 차이를 구하고 제곱을 하고, 총합의 제곱근이 거리 점수\n",
    "            sum += pow(data[name1][i] - data[name2][i], 2)\n",
    "    \n",
    "    # 유사할 수록 더 높은 값을 가지는 계산식 사용, 결과 값이 0과 1사이의 값을 반환\n",
    "    # 반환 값이 1에 가까울 수록 유사도가 높다\n",
    "    return 1 / (1 + sqrt(sum))"
   ]
  },
  {
   "cell_type": "code",
   "execution_count": 25,
   "metadata": {},
   "outputs": [
    {
     "name": "stdout",
     "output_type": "stream",
     "text": [
      "0.28989794855663564\n",
      "0.2857142857142857\n"
     ]
    }
   ],
   "source": [
    "print(similarity_distance(ratings, 'user1', 'user2'))\n",
    "print(similarity_distance(ratings, 'user1', 'user3'))"
   ]
  },
  {
   "cell_type": "code",
   "execution_count": null,
   "metadata": {},
   "outputs": [],
   "source": []
  }
 ],
 "metadata": {
  "kernelspec": {
   "display_name": "Python 3",
   "language": "python",
   "name": "python3"
  },
  "language_info": {
   "codemirror_mode": {
    "name": "ipython",
    "version": 3
   },
   "file_extension": ".py",
   "mimetype": "text/x-python",
   "name": "python",
   "nbconvert_exporter": "python",
   "pygments_lexer": "ipython3",
   "version": "3.8.3"
  }
 },
 "nbformat": 4,
 "nbformat_minor": 4
}
