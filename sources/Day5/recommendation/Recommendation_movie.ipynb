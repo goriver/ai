{
 "cells": [
  {
   "cell_type": "code",
   "execution_count": 1,
   "metadata": {},
   "outputs": [],
   "source": [
    "%matplotlib inline\n",
    "import matplotlib.pyplot as plt\n",
    "from matplotlib import font_manager, rc\n",
    "from math import sqrt\n",
    "\n",
    "font_name = font_manager.FontProperties(fname='/System/Library/Fonts/Supplemental/AppleGothic.ttf').get_name()\n",
    "rc('font', family=font_name)"
   ]
  },
  {
   "cell_type": "code",
   "execution_count": 2,
   "metadata": {},
   "outputs": [
    {
     "data": {
      "image/png": "[encoded data removed]",
      "text/plain": [
       "<Figure size 576x360 with 1 Axes>"
      ]
     },
     "metadata": {
      "needs_background": "light"
     },
     "output_type": "display_data"
    }
   ],
   "source": [
    "plt.figure(figsize=(8,5))\n",
    "plt.plot([1,2,3], [1,2,3], 'g^')\n",
    "plt.text(1,1, '캡틴 마블')\n",
    "plt.text(2,2, '라스트 미션')\n",
    "plt.text(3,3, '돈')\n",
    "plt.axis([0,6,0,6])\n",
    "plt.show()"
   ]
  },
  {
   "cell_type": "code",
   "execution_count": 7,
   "metadata": {},
   "outputs": [],
   "source": [
    "ratings = {\n",
    "    'user1': {\n",
    "        '돈': 2.5,\n",
    "        '캡틴마블': 3.5,\n",
    "        '보헤미안 랩소디': 3.0,\n",
    "        '극한직업': 3.5,\n",
    "        '이스케이프 룸': 2.5,\n",
    "        '증인': 3.0,\n",
    "    },\n",
    "    'user2': {\n",
    "        '돈': 1.0,\n",
    "        '캡틴마블': 4.5,\n",
    "        '보헤미안 랩소디': 0.5,\n",
    "        '극한직업': 1.5,\n",
    "        '이스케이프 룸': 4.5,\n",
    "        '증인': 5.0,\n",
    "    },\n",
    "    'user3': {\n",
    "        '돈': 3.0,\n",
    "        '캡틴마블': 3.5,\n",
    "        '보헤미안 랩소디': 1.5,\n",
    "        '극한직업': 5.0,\n",
    "        '증인': 3.0,\n",
    "        '이스케이프 룸': 3.5,\n",
    "    },\n",
    "    'user4': {\n",
    "        '돈': 2.5,\n",
    "        '캡틴마블': 3.0,\n",
    "        '극한직업': 3.5,\n",
    "        '증인': 4.0,\n",
    "    },\n",
    "    'user5': {\n",
    "        '캡틴마블': 3.5,\n",
    "        '보헤미안 랩소디': 3.0,\n",
    "        '증인': 4.5,\n",
    "        '극한직업': 4.0,\n",
    "        '이스케이프 룸': 2.5,\n",
    "    },\n",
    "    'user6': {\n",
    "        '돈': 3.0,\n",
    "        '캡틴마블': 4.0,\n",
    "        '보헤미안 랩소디': 2.0,\n",
    "        '극한직업': 3.0,\n",
    "        '증인': 3.5,\n",
    "        '이스케이프 룸': 2.0,\n",
    "    },\n",
    "    'user7': {\n",
    "        '돈': 3.0,\n",
    "        '캡틴마블': 4.0,\n",
    "        '증인': 3.0,\n",
    "        '극한직업': 5.0,\n",
    "        '이스케이프 룸': 3.5,\n",
    "    },\n",
    "    'user8': {\n",
    "        '캡틴마블': 4.5, \n",
    "        '이스케이프 룸': 1.0,\n",
    "        '극한직업': 4.0,\n",
    "    },\n",
    "    'user9': {\n",
    "        '돈': 3.7,\n",
    "        '캡틴마블': 4.0, \n",
    "        '이스케이프 룸': 3.0,\n",
    "        '극한직업': 4.9,\n",
    "        '보헤미안 랩소디': 4.1,\n",
    "    }\n",
    "}"
   ]
  },
  {
   "cell_type": "code",
   "execution_count": 8,
   "metadata": {},
   "outputs": [],
   "source": [
    "def draw_chart(data, name1, name2):\n",
    "    plt.figure(figsize=(8,5))\n",
    "    x_ratings = []\n",
    "    y_ratings = []\n",
    "    for i in ratings[name1]: # i = 키 값\n",
    "        if i in data[name2]: # 같은 영화를 평가했을때만\n",
    "            x_ratings.append(ratings[name1][i])\n",
    "            y_ratings.append(ratings[name2][i])\n",
    "            plt.text(ratings[name1][i],ratings[name2][i], i) # 영화 제목을 text로 출력\n",
    "    plt.plot(x_ratings, y_ratings, 'g^')\n",
    "    plt.axis([0,6,0,6])\n",
    "    plt.xlabel(name1)\n",
    "    plt.ylabel(name2)\n",
    "    plt.show()"
   ]
  },
  {
   "cell_type": "code",
   "execution_count": 9,
   "metadata": {},
   "outputs": [],
   "source": [
    "def pearson_correlation_coefficient(data, name1, name2):\n",
    "    pass\n"
   ]
  },
  {
   "cell_type": "code",
   "execution_count": null,
   "metadata": {},
   "outputs": [],
   "source": [
    "print(pearson_correlation_coefficient(ratings, 'user1', 'user3'))\n",
    "print(pearson_correlation_coefficient(ratings, 'user5', 'user8'))"
   ]
  }
 ],
 "metadata": {
  "kernelspec": {
   "display_name": "Python 3",
   "language": "python",
   "name": "python3"
  },
  "language_info": {
   "codemirror_mode": {
    "name": "ipython",
    "version": 3
   },
   "file_extension": ".py",
   "mimetype": "text/x-python",
   "name": "python",
   "nbconvert_exporter": "python",
   "pygments_lexer": "ipython3",
   "version": "3.8.3"
  }
 },
 "nbformat": 4,
 "nbformat_minor": 4
}
