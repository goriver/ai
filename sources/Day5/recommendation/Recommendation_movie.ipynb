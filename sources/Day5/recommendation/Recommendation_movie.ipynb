{
 "cells": [
  {
   "cell_type": "code",
   "execution_count": 1,
   "metadata": {},
   "outputs": [],
   "source": [
    "%matplotlib inline\n",
    "import matplotlib.pyplot as plt\n",
    "from matplotlib import font_manager, rc\n",
    "from math import sqrt\n",
    "\n",
    "font_name = font_manager.FontProperties(fname='/System/Library/Fonts/Supplemental/AppleGothic.ttf').get_name()\n",
    "rc('font', family=font_name)"
   ]
  },
  {
   "cell_type": "code",
   "execution_count": 2,
   "metadata": {},
   "outputs": [
    {
     "data": {
      "image/png": "[encoded data removed]",
      "text/plain": [
       "<Figure size 576x360 with 1 Axes>"
      ]
     },
     "metadata": {
      "needs_background": "light"
     },
     "output_type": "display_data"
    }
   ],
   "source": [
    "plt.figure(figsize=(8,5))\n",
    "plt.plot([1,2,3], [1,2,3], 'g^')\n",
    "plt.text(1,1, '캡틴 마블')\n",
    "plt.text(2,2, '라스트 미션')\n",
    "plt.text(3,3, '돈')\n",
    "plt.axis([0,6,0,6])\n",
    "plt.show()"
   ]
  },
  {
   "cell_type": "code",
   "execution_count": 3,
   "metadata": {},
   "outputs": [],
   "source": [
    "ratings = {\n",
    "    'user1': {\n",
    "        '돈': 2.5,\n",
    "        '캡틴마블': 3.5,\n",
    "        '보헤미안 랩소디': 3.0,\n",
    "        '극한직업': 3.5,\n",
    "        '이스케이프 룸': 2.5,\n",
    "        '증인': 3.0,\n",
    "    },\n",
    "    'user2': {\n",
    "        '돈': 1.0,\n",
    "        '캡틴마블': 4.5,\n",
    "        '보헤미안 랩소디': 0.5,\n",
    "        '극한직업': 1.5,\n",
    "        '이스케이프 룸': 4.5,\n",
    "        '증인': 5.0,\n",
    "    },\n",
    "    'user3': {\n",
    "        '돈': 3.0,\n",
    "        '캡틴마블': 3.5,\n",
    "        '보헤미안 랩소디': 1.5,\n",
    "        '극한직업': 5.0,\n",
    "        '증인': 3.0,\n",
    "        '이스케이프 룸': 3.5,\n",
    "    },\n",
    "    'user4': {\n",
    "        '돈': 2.5,\n",
    "        '캡틴마블': 3.0,\n",
    "        '극한직업': 3.5,\n",
    "        '증인': 4.0,\n",
    "    },\n",
    "    'user5': {\n",
    "        '캡틴마블': 3.5,\n",
    "        '보헤미안 랩소디': 3.0,\n",
    "        '증인': 4.5,\n",
    "        '극한직업': 4.0,\n",
    "        '이스케이프 룸': 2.5,\n",
    "    },\n",
    "    'user6': {\n",
    "        '돈': 3.0,\n",
    "        '캡틴마블': 4.0,\n",
    "        '보헤미안 랩소디': 2.0,\n",
    "        '극한직업': 3.0,\n",
    "        '증인': 3.5,\n",
    "        '이스케이프 룸': 2.0,\n",
    "    },\n",
    "    'user7': {\n",
    "        '돈': 3.0,\n",
    "        '캡틴마블': 4.0,\n",
    "        '증인': 3.0,\n",
    "        '극한직업': 5.0,\n",
    "        '이스케이프 룸': 3.5,\n",
    "    },\n",
    "    'user8': {\n",
    "        '캡틴마블': 4.5, \n",
    "        '이스케이프 룸': 1.0,\n",
    "        '극한직업': 4.0,\n",
    "    },\n",
    "    'user9': {\n",
    "        '돈': 3.7,\n",
    "        '캡틴마블': 4.0, \n",
    "        '이스케이프 룸': 3.0,\n",
    "        '극한직업': 4.9,\n",
    "        '보헤미안 랩소디': 4.1,\n",
    "    }\n",
    "}"
   ]
  },
  {
   "cell_type": "code",
   "execution_count": null,
   "metadata": {},
   "outputs": [],
   "source": []
  },
  {
   "cell_type": "code",
   "execution_count": 4,
   "metadata": {},
   "outputs": [],
   "source": [
    "def draw_chart(data, name1, name2):\n",
    "    plt.figure(figsize=(8,5))\n",
    "    x_ratings = []\n",
    "    y_ratings = []\n",
    "    for i in ratings[name1]: # i = 키 값\n",
    "        if i in data[name2]: # 같은 영화를 평가했을때만\n",
    "            x_ratings.append(ratings[name1][i])\n",
    "            y_ratings.append(ratings[name2][i])\n",
    "            plt.text(ratings[name1][i],ratings[name2][i], i) # 영화 제목을 text로 출력\n",
    "    plt.plot(x_ratings, y_ratings, 'g^')\n",
    "    plt.axis([0,6,0,6])\n",
    "    plt.xlabel(name1)\n",
    "    plt.ylabel(name2)\n",
    "    plt.show()"
   ]
  },
  {
   "cell_type": "code",
   "execution_count": 5,
   "metadata": {},
   "outputs": [],
   "source": [
    "def pearson_correlation_coefficient(data, name1, name2):\n",
    "    sumX=0 # X의 합\n",
    "    sumY=0 # Y의 합\n",
    "    sumPowX=0 # X 제곱의 합\n",
    "    sumPowY=0 # Y 제곱의 합\n",
    "    sumXY=0 # X*Y의 합\n",
    "    count=0 #영화 개수\n",
    "    \n",
    "    for movie in data[name1]: # i = key\n",
    "        if movie in data[name2]: # 같은 영화를 평가했을때만\n",
    "            sumX += data[name1][movie]\n",
    "            sumY += data[name2][movie]\n",
    "            sumPowX += pow(data[name1][movie], 2)\n",
    "            sumPowY += pow(data[name2][movie], 2)\n",
    "            sumXY += data[name1][movie] * data[name2][movie]\n",
    "            count += 1\n",
    "    \n",
    "    return ( sumXY - ((sumX * sumY) / count)) \\\n",
    "                / sqrt((sumPowX - (pow(sumX,2) / count)) * (sumPowY - (pow(sumY,2) / count)))\n"
   ]
  },
  {
   "cell_type": "code",
   "execution_count": 6,
   "metadata": {},
   "outputs": [
    {
     "name": "stdout",
     "output_type": "stream",
     "text": [
      "0.39605901719066977\n",
      "0.8934051474415647\n"
     ]
    }
   ],
   "source": [
    "print(pearson_correlation_coefficient(ratings, 'user1', 'user3'))\n",
    "print(pearson_correlation_coefficient(ratings, 'user5', 'user8'))"
   ]
  },
  {
   "cell_type": "code",
   "execution_count": 7,
   "metadata": {},
   "outputs": [
    {
     "name": "stdout",
     "output_type": "stream",
     "text": [
      "(0.39605901719066977, 0.4369749265426754)\n",
      "(0.8934051474415641, 0.29661883133160066)\n"
     ]
    }
   ],
   "source": [
    "user1=[2.5,3.5,3.0,3.5,2.5,3.0] #돈,캡틴마블,보헤미안랩소디,극한직업,이스케이프룸,증인\n",
    "user3=[3.0,3.5,1.5,5.0,3.5,3.0] #돈,캡틴마블,보헤미안랩소디,극한직업,이스케이프룸,증인\n",
    "user5=[3.5,2.5,4.0] #캡틴마블,이스케이프룸,극한직업\n",
    "user8=[4.5,1.0,4.0] #캡틴마블,이스케이프룸,극한직업\n",
    "import scipy.stats as stats\n",
    "corr1 = stats.pearsonr(user1, user3)\n",
    "corr2 = stats.pearsonr(user5, user8)\n",
    "print(corr1)\n",
    "print(corr2)"
   ]
  },
  {
   "cell_type": "code",
   "execution_count": 8,
   "metadata": {},
   "outputs": [],
   "source": [
    "def nearest_user(data, name, index=3):\n",
    "    result = []\n",
    "    # 자신(name)하고 가장 가까운 사람의 데이터 출력 \n",
    "    for u in data:\n",
    "        if u != name: \n",
    "            result.append((pearson_correlation_coefficient(data, name, u), u))\n",
    "    \n",
    "    result.sort()\n",
    "    result.reverse()\n",
    "    \n",
    "    return result[:index]"
   ]
  },
  {
   "cell_type": "code",
   "execution_count": 9,
   "metadata": {},
   "outputs": [
    {
     "data": {
      "text/plain": [
       "[(0.9912407071619299, 'user8'),\n",
       " (0.7997092494906695, 'user9'),\n",
       " (0.7470178808339965, 'user7'),\n",
       " (0.5669467095138396, 'user5'),\n",
       " (0.5582905262390823, 'user6'),\n",
       " (0.40451991747794525, 'user4'),\n",
       " (0.39605901719066977, 'user3'),\n",
       " (0.05477225575051661, 'user2')]"
      ]
     },
     "execution_count": 9,
     "metadata": {},
     "output_type": "execute_result"
    }
   ],
   "source": [
    "nearest_user(ratings, 'user1',len(ratings))"
   ]
  },
  {
   "cell_type": "code",
   "execution_count": 10,
   "metadata": {},
   "outputs": [],
   "source": [
    "def getRecommendation (data, user):\n",
    "    rcmmdList = []\n",
    "    result = nearest_user(data, user, len(data))\n",
    "    \n",
    "    score = 0\n",
    "    score_dic = {} # 유사도 총합을 위한 dict\n",
    "    similarity_dic = {} # 평점 총합을 위한 dict \n",
    "    \n",
    "    for similarity, name in result:\n",
    "        if similarity < 0:\n",
    "            continue\n",
    "        \n",
    "        for movie in data[name]:\n",
    "            if movie not in data[user]: # name이 평가를 내리지 않은 영화\n",
    "                score += similarity * data[name][movie] # 영화평점 * 유사도\n",
    "                score_dic.setdefault(movie, 0) # 기본값 설정\n",
    "                score_dic[movie] += score # 합계 구하기 \n",
    "                \n",
    "                # 조건에 맞는 사람의 유사도의 누적합 구하기\n",
    "                similarity_dic.setdefault(movie, 0)\n",
    "                similarity_dic[movie] += similarity\n",
    "            \n",
    "            score = 0 #영화가 바뀌었으니 초기화\n",
    "    \n",
    "    for key in score_dic:\n",
    "        # 평점 총합 / 유사도 총합\n",
    "        score_dic[key] = score_dic[key] / similarity_dic[key] \n",
    "        rcmmdList.append((score_dic[key], key))\n",
    "    \n",
    "    rcmmdList.sort()\n",
    "    rcmmdList.reverse()\n",
    "    \n",
    "    return rcmmdList"
   ]
  },
  {
   "cell_type": "code",
   "execution_count": 11,
   "metadata": {},
   "outputs": [
    {
     "data": {
      "image/png": "[encoded data removed]",
      "text/plain": [
       "<Figure size 576x360 with 1 Axes>"
      ]
     },
     "metadata": {
      "needs_background": "light"
     },
     "output_type": "display_data"
    },
    {
     "data": {
      "image/png": "[encoded data removed]",
      "text/plain": [
       "<Figure size 576x360 with 1 Axes>"
      ]
     },
     "metadata": {
      "needs_background": "light"
     },
     "output_type": "display_data"
    }
   ],
   "source": [
    "draw_chart(ratings, 'user2', 'user6')\n",
    "draw_chart(ratings, 'user7', 'user1')"
   ]
  },
  {
   "cell_type": "code",
   "execution_count": 12,
   "metadata": {},
   "outputs": [
    {
     "name": "stdout",
     "output_type": "stream",
     "text": [
      "0.41791069697885247\n",
      "0.7470178808339965\n",
      "--------------------\n",
      "[(0.9912407071619299, 'user1'), (0.9244734516419049, 'user6'), (0.8934051474415647, 'user5')]\n",
      "--------------------\n"
     ]
    }
   ],
   "source": [
    "print(pearson_correlation_coefficient(ratings, 'user2', 'user6'))\n",
    "print(pearson_correlation_coefficient(ratings, 'user7', 'user1'))\n",
    "print('-' * 20)\n",
    "print(nearest_user(ratings, 'user8', 3))\n",
    "print('-' * 20)"
   ]
  },
  {
   "cell_type": "code",
   "execution_count": 13,
   "metadata": {},
   "outputs": [],
   "source": [
    "rcmmdList = getRecommendation(ratings, 'user8')"
   ]
  },
  {
   "cell_type": "code",
   "execution_count": 14,
   "metadata": {},
   "outputs": [
    {
     "name": "stdout",
     "output_type": "stream",
     "text": [
      "[(3.467750847406967, '증인'), (3.019037058253216, '돈'), (2.848855549166695, '보헤미안 랩소디')]\n"
     ]
    }
   ],
   "source": [
    "print(rcmmdList)"
   ]
  },
  {
   "cell_type": "code",
   "execution_count": 15,
   "metadata": {},
   "outputs": [
    {
     "name": "stdout",
     "output_type": "stream",
     "text": [
      "(3.467750847406967, '증인')\n"
     ]
    }
   ],
   "source": [
    "print(rcmmdList[0])"
   ]
  },
  {
   "cell_type": "code",
   "execution_count": 16,
   "metadata": {},
   "outputs": [
    {
     "data": {
      "text/plain": [
       "[(2.7683838067022903, '보헤미안 랩소디')]"
      ]
     },
     "execution_count": 16,
     "metadata": {},
     "output_type": "execute_result"
    }
   ],
   "source": [
    "getRecommendation(ratings, 'user7')"
   ]
  },
  {
   "cell_type": "code",
   "execution_count": 17,
   "metadata": {},
   "outputs": [
    {
     "name": "stdout",
     "output_type": "stream",
     "text": [
      "Requirement already satisfied: fbprophet in /Users/dowonlee/opt/anaconda3/lib/python3.8/site-packages (0.7)\n",
      "Requirement already satisfied: Cython>=0.22 in /Users/dowonlee/opt/anaconda3/lib/python3.8/site-packages (from fbprophet) (0.29.21)\n",
      "Requirement already satisfied: cmdstanpy==0.9.5 in /Users/dowonlee/opt/anaconda3/lib/python3.8/site-packages (from fbprophet) (0.9.5)\n",
      "Requirement already satisfied: pystan>=2.14 in /Users/dowonlee/opt/anaconda3/lib/python3.8/site-packages (from fbprophet) (2.19.1.1)\n",
      "Requirement already satisfied: numpy>=1.10.0 in /Users/dowonlee/opt/anaconda3/lib/python3.8/site-packages (from fbprophet) (1.18.5)\n",
      "Requirement already satisfied: pandas>=1.0.4 in /Users/dowonlee/opt/anaconda3/lib/python3.8/site-packages (from fbprophet) (1.0.5)\n",
      "Requirement already satisfied: matplotlib>=2.0.0 in /Users/dowonlee/opt/anaconda3/lib/python3.8/site-packages (from fbprophet) (3.2.2)\n",
      "Requirement already satisfied: LunarCalendar>=0.0.9 in /Users/dowonlee/opt/anaconda3/lib/python3.8/site-packages (from fbprophet) (0.0.9)\n",
      "Requirement already satisfied: convertdate>=2.1.2 in /Users/dowonlee/opt/anaconda3/lib/python3.8/site-packages (from fbprophet) (2.2.1)\n",
      "Requirement already satisfied: holidays>=0.9.5 in /Users/dowonlee/opt/anaconda3/lib/python3.8/site-packages (from fbprophet) (0.10.3)\n",
      "Requirement already satisfied: setuptools-git>=1.2 in /Users/dowonlee/opt/anaconda3/lib/python3.8/site-packages (from fbprophet) (1.2)\n",
      "Requirement already satisfied: python-dateutil>=2.8.0 in /Users/dowonlee/opt/anaconda3/lib/python3.8/site-packages (from fbprophet) (2.8.1)\n",
      "Requirement already satisfied: tqdm>=4.36.1 in /Users/dowonlee/opt/anaconda3/lib/python3.8/site-packages (from fbprophet) (4.47.0)\n",
      "Requirement already satisfied: pytz>=2017.2 in /Users/dowonlee/opt/anaconda3/lib/python3.8/site-packages (from pandas>=1.0.4->fbprophet) (2020.1)\n",
      "Requirement already satisfied: pyparsing!=2.0.4,!=2.1.2,!=2.1.6,>=2.0.1 in /Users/dowonlee/opt/anaconda3/lib/python3.8/site-packages (from matplotlib>=2.0.0->fbprophet) (2.4.7)\n",
      "Requirement already satisfied: kiwisolver>=1.0.1 in /Users/dowonlee/opt/anaconda3/lib/python3.8/site-packages (from matplotlib>=2.0.0->fbprophet) (1.2.0)\n",
      "Requirement already satisfied: cycler>=0.10 in /Users/dowonlee/opt/anaconda3/lib/python3.8/site-packages (from matplotlib>=2.0.0->fbprophet) (0.10.0)\n",
      "Requirement already satisfied: ephem>=3.7.5.3 in /Users/dowonlee/opt/anaconda3/lib/python3.8/site-packages (from LunarCalendar>=0.0.9->fbprophet) (3.7.7.1)\n",
      "Requirement already satisfied: pymeeus<=1,>=0.3.6 in /Users/dowonlee/opt/anaconda3/lib/python3.8/site-packages (from convertdate>=2.1.2->fbprophet) (0.3.7)\n",
      "Requirement already satisfied: korean-lunar-calendar in /Users/dowonlee/opt/anaconda3/lib/python3.8/site-packages (from holidays>=0.9.5->fbprophet) (0.2.1)\n",
      "Requirement already satisfied: six in /Users/dowonlee/opt/anaconda3/lib/python3.8/site-packages (from holidays>=0.9.5->fbprophet) (1.15.0)\n",
      "Note: you may need to restart the kernel to use updated packages.\n"
     ]
    }
   ],
   "source": [
    "pip install fbprophet"
   ]
  },
  {
   "cell_type": "code",
   "execution_count": null,
   "metadata": {},
   "outputs": [],
   "source": []
  }
 ],
 "metadata": {
  "kernelspec": {
   "display_name": "Python 3",
   "language": "python",
   "name": "python3"
  },
  "language_info": {
   "codemirror_mode": {
    "name": "ipython",
    "version": 3
   },
   "file_extension": ".py",
   "mimetype": "text/x-python",
   "name": "python",
   "nbconvert_exporter": "python",
   "pygments_lexer": "ipython3",
   "version": "3.8.3"
  }
 },
 "nbformat": 4,
 "nbformat_minor": 4
}
